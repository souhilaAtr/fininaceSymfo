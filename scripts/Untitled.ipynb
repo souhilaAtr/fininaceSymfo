{
 "cells": [
  {
   "cell_type": "code",
   "execution_count": 1,
   "id": "a8e42424",
   "metadata": {},
   "outputs": [
    {
     "name": "stdout",
     "output_type": "stream",
     "text": [
      "Collecting fr-core-news-md==3.7.0\n",
      "  Downloading https://github.com/explosion/spacy-models/releases/download/fr_core_news_md-3.7.0/fr_core_news_md-3.7.0-py3-none-any.whl (45.8 MB)\n",
      "\u001b[2K     \u001b[90m━━━━━━━━━━━━━━━━━━━━━━━━━━━━━━━━━━━━━━━━\u001b[0m \u001b[32m45.8/45.8 MB\u001b[0m \u001b[31m6.0 MB/s\u001b[0m eta \u001b[36m0:00:00\u001b[0m00:01\u001b[0m00:01\u001b[0m\n",
      "\u001b[?25hRequirement already satisfied: spacy<3.8.0,>=3.7.0 in /home/mimi/Bureau/stage/compta/.venv/lib/python3.11/site-packages (from fr-core-news-md==3.7.0) (3.7.2)\n",
      "Requirement already satisfied: spacy-legacy<3.1.0,>=3.0.11 in /home/mimi/Bureau/stage/compta/.venv/lib/python3.11/site-packages (from spacy<3.8.0,>=3.7.0->fr-core-news-md==3.7.0) (3.0.12)\n",
      "Requirement already satisfied: spacy-loggers<2.0.0,>=1.0.0 in /home/mimi/Bureau/stage/compta/.venv/lib/python3.11/site-packages (from spacy<3.8.0,>=3.7.0->fr-core-news-md==3.7.0) (1.0.5)\n",
      "Requirement already satisfied: murmurhash<1.1.0,>=0.28.0 in /home/mimi/Bureau/stage/compta/.venv/lib/python3.11/site-packages (from spacy<3.8.0,>=3.7.0->fr-core-news-md==3.7.0) (1.0.10)\n",
      "Requirement already satisfied: cymem<2.1.0,>=2.0.2 in /home/mimi/Bureau/stage/compta/.venv/lib/python3.11/site-packages (from spacy<3.8.0,>=3.7.0->fr-core-news-md==3.7.0) (2.0.8)\n",
      "Requirement already satisfied: preshed<3.1.0,>=3.0.2 in /home/mimi/Bureau/stage/compta/.venv/lib/python3.11/site-packages (from spacy<3.8.0,>=3.7.0->fr-core-news-md==3.7.0) (3.0.9)\n",
      "Requirement already satisfied: thinc<8.3.0,>=8.1.8 in /home/mimi/Bureau/stage/compta/.venv/lib/python3.11/site-packages (from spacy<3.8.0,>=3.7.0->fr-core-news-md==3.7.0) (8.2.1)\n",
      "Requirement already satisfied: wasabi<1.2.0,>=0.9.1 in /home/mimi/Bureau/stage/compta/.venv/lib/python3.11/site-packages (from spacy<3.8.0,>=3.7.0->fr-core-news-md==3.7.0) (1.1.2)\n",
      "Requirement already satisfied: srsly<3.0.0,>=2.4.3 in /home/mimi/Bureau/stage/compta/.venv/lib/python3.11/site-packages (from spacy<3.8.0,>=3.7.0->fr-core-news-md==3.7.0) (2.4.8)\n",
      "Requirement already satisfied: catalogue<2.1.0,>=2.0.6 in /home/mimi/Bureau/stage/compta/.venv/lib/python3.11/site-packages (from spacy<3.8.0,>=3.7.0->fr-core-news-md==3.7.0) (2.0.10)\n",
      "Requirement already satisfied: weasel<0.4.0,>=0.1.0 in /home/mimi/Bureau/stage/compta/.venv/lib/python3.11/site-packages (from spacy<3.8.0,>=3.7.0->fr-core-news-md==3.7.0) (0.3.4)\n",
      "Requirement already satisfied: typer<0.10.0,>=0.3.0 in /home/mimi/Bureau/stage/compta/.venv/lib/python3.11/site-packages (from spacy<3.8.0,>=3.7.0->fr-core-news-md==3.7.0) (0.9.0)\n",
      "Requirement already satisfied: smart-open<7.0.0,>=5.2.1 in /home/mimi/Bureau/stage/compta/.venv/lib/python3.11/site-packages (from spacy<3.8.0,>=3.7.0->fr-core-news-md==3.7.0) (6.4.0)\n",
      "Requirement already satisfied: tqdm<5.0.0,>=4.38.0 in /home/mimi/Bureau/stage/compta/.venv/lib/python3.11/site-packages (from spacy<3.8.0,>=3.7.0->fr-core-news-md==3.7.0) (4.66.1)\n",
      "Requirement already satisfied: requests<3.0.0,>=2.13.0 in /home/mimi/Bureau/stage/compta/.venv/lib/python3.11/site-packages (from spacy<3.8.0,>=3.7.0->fr-core-news-md==3.7.0) (2.31.0)\n",
      "Requirement already satisfied: pydantic!=1.8,!=1.8.1,<3.0.0,>=1.7.4 in /home/mimi/Bureau/stage/compta/.venv/lib/python3.11/site-packages (from spacy<3.8.0,>=3.7.0->fr-core-news-md==3.7.0) (2.5.2)\n",
      "Requirement already satisfied: jinja2 in /home/mimi/Bureau/stage/compta/.venv/lib/python3.11/site-packages (from spacy<3.8.0,>=3.7.0->fr-core-news-md==3.7.0) (3.1.2)\n",
      "Requirement already satisfied: setuptools in /home/mimi/Bureau/stage/compta/.venv/lib/python3.11/site-packages (from spacy<3.8.0,>=3.7.0->fr-core-news-md==3.7.0) (69.0.2)\n",
      "Requirement already satisfied: packaging>=20.0 in /home/mimi/Bureau/stage/compta/.venv/lib/python3.11/site-packages (from spacy<3.8.0,>=3.7.0->fr-core-news-md==3.7.0) (23.2)\n",
      "Requirement already satisfied: langcodes<4.0.0,>=3.2.0 in /home/mimi/Bureau/stage/compta/.venv/lib/python3.11/site-packages (from spacy<3.8.0,>=3.7.0->fr-core-news-md==3.7.0) (3.3.0)\n",
      "Requirement already satisfied: numpy>=1.19.0 in /home/mimi/Bureau/stage/compta/.venv/lib/python3.11/site-packages (from spacy<3.8.0,>=3.7.0->fr-core-news-md==3.7.0) (1.26.2)\n",
      "Requirement already satisfied: annotated-types>=0.4.0 in /home/mimi/Bureau/stage/compta/.venv/lib/python3.11/site-packages (from pydantic!=1.8,!=1.8.1,<3.0.0,>=1.7.4->spacy<3.8.0,>=3.7.0->fr-core-news-md==3.7.0) (0.6.0)\n",
      "Requirement already satisfied: pydantic-core==2.14.5 in /home/mimi/Bureau/stage/compta/.venv/lib/python3.11/site-packages (from pydantic!=1.8,!=1.8.1,<3.0.0,>=1.7.4->spacy<3.8.0,>=3.7.0->fr-core-news-md==3.7.0) (2.14.5)\n",
      "Requirement already satisfied: typing-extensions>=4.6.1 in /home/mimi/Bureau/stage/compta/.venv/lib/python3.11/site-packages (from pydantic!=1.8,!=1.8.1,<3.0.0,>=1.7.4->spacy<3.8.0,>=3.7.0->fr-core-news-md==3.7.0) (4.8.0)\n",
      "Requirement already satisfied: charset-normalizer<4,>=2 in /home/mimi/Bureau/stage/compta/.venv/lib/python3.11/site-packages (from requests<3.0.0,>=2.13.0->spacy<3.8.0,>=3.7.0->fr-core-news-md==3.7.0) (3.3.2)\n",
      "Requirement already satisfied: idna<4,>=2.5 in /home/mimi/Bureau/stage/compta/.venv/lib/python3.11/site-packages (from requests<3.0.0,>=2.13.0->spacy<3.8.0,>=3.7.0->fr-core-news-md==3.7.0) (3.6)\n",
      "Requirement already satisfied: urllib3<3,>=1.21.1 in /home/mimi/Bureau/stage/compta/.venv/lib/python3.11/site-packages (from requests<3.0.0,>=2.13.0->spacy<3.8.0,>=3.7.0->fr-core-news-md==3.7.0) (2.1.0)\n",
      "Requirement already satisfied: certifi>=2017.4.17 in /home/mimi/Bureau/stage/compta/.venv/lib/python3.11/site-packages (from requests<3.0.0,>=2.13.0->spacy<3.8.0,>=3.7.0->fr-core-news-md==3.7.0) (2023.11.17)\n",
      "Requirement already satisfied: blis<0.8.0,>=0.7.8 in /home/mimi/Bureau/stage/compta/.venv/lib/python3.11/site-packages (from thinc<8.3.0,>=8.1.8->spacy<3.8.0,>=3.7.0->fr-core-news-md==3.7.0) (0.7.11)\n",
      "Requirement already satisfied: confection<1.0.0,>=0.0.1 in /home/mimi/Bureau/stage/compta/.venv/lib/python3.11/site-packages (from thinc<8.3.0,>=8.1.8->spacy<3.8.0,>=3.7.0->fr-core-news-md==3.7.0) (0.1.4)\n",
      "Requirement already satisfied: click<9.0.0,>=7.1.1 in /home/mimi/Bureau/stage/compta/.venv/lib/python3.11/site-packages (from typer<0.10.0,>=0.3.0->spacy<3.8.0,>=3.7.0->fr-core-news-md==3.7.0) (8.1.7)\n",
      "Requirement already satisfied: cloudpathlib<0.17.0,>=0.7.0 in /home/mimi/Bureau/stage/compta/.venv/lib/python3.11/site-packages (from weasel<0.4.0,>=0.1.0->spacy<3.8.0,>=3.7.0->fr-core-news-md==3.7.0) (0.16.0)\n",
      "Requirement already satisfied: MarkupSafe>=2.0 in /home/mimi/Bureau/stage/compta/.venv/lib/python3.11/site-packages (from jinja2->spacy<3.8.0,>=3.7.0->fr-core-news-md==3.7.0) (2.1.3)\n",
      "\u001b[38;5;2m✔ Download and installation successful\u001b[0m\n",
      "You can now load the package via spacy.load('fr_core_news_md')\n"
     ]
    }
   ],
   "source": [
    "! python -m spacy download fr_core_news_md"
   ]
  },
  {
   "cell_type": "code",
   "execution_count": 2,
   "id": "1c2ad9b4-ce21-4304-bc67-f898b4d3f983",
   "metadata": {},
   "outputs": [],
   "source": [
    "import spacy\n",
    "import logging\n",
    "import json\n",
    "from IPython.display import display, JSON\n",
    "import re\n",
    "from spacy.matcher import Matcher\n"
   ]
  },
  {
   "cell_type": "code",
   "execution_count": 3,
   "id": "11f6e8c6",
   "metadata": {},
   "outputs": [],
   "source": [
    "logging.basicConfig(level=logging.DEBUG)\n"
   ]
  },
  {
   "cell_type": "code",
   "execution_count": 4,
   "id": "0d7afec5",
   "metadata": {},
   "outputs": [],
   "source": [
    "# Charger le modèle spaCy en français\n",
    "nlp = spacy.load(\"fr_core_news_md\")\n",
    "\n",
    "def process_tesseract_data(tesseract_output):\n",
    "    # Traiter les données Tesseract avec spaCy\n",
    "    doc = nlp(tesseract_output)\n",
    "\n",
    "    # Initialiser les variables pour stocker les informations extraites\n",
    "    nom = \"\"\n",
    "    prenom = \"\"\n",
    "    adresse = \"\"\n",
    "    telephone = \"\"\n",
    "    montant_facture = \"\"\n",
    "\n",
    "    # Parcourir les entités nommées dans le document\n",
    "    for entite in doc.ents:\n",
    "        if entite.label_ == \"PER\" and not nom:\n",
    "            nom = entite.text\n",
    "        elif entite.label_ == \"PER\" and nom and not prenom:\n",
    "            prenom = entite.text\n",
    "        elif entite.label_ == \"LOC\" and not adresse:\n",
    "            adresse = entite.text\n",
    "        elif entite.label_ == \"PHONE\" and not telephone:\n",
    "            telephone = entite.text\n",
    "        elif entite.label_ == \"MONEY\" and not montant_facture:\n",
    "            montant_facture = entite.text\n",
    "\n",
    "    # Retourner les informations extraites\n",
    "    return {\n",
    "        \"nom\": nom,\n",
    "        \"prenom\": prenom,\n",
    "        \"adresse\": adresse,\n",
    "        \"telephone\": telephone,\n",
    "        \"montant_facture\": montant_facture\n",
    "    }"
   ]
  },
  {
   "cell_type": "code",
   "execution_count": 5,
   "id": "28d3e9e8",
   "metadata": {},
   "outputs": [
    {
     "data": {
      "application/json": {
       "adresse": "",
       "montant_facture": "",
       "nom": "Champlain",
       "prenom": "Samuel",
       "telephone": ""
      },
      "text/plain": [
       "<IPython.core.display.JSON object>"
      ]
     },
     "metadata": {
      "application/json": {
       "expanded": false,
       "root": "root"
      }
     },
     "output_type": "display_data"
    }
   ],
   "source": [
    "# Récupère les données Tesseract à partir de l'entrée utilisateur\n",
    "tesseract_output = input(\"Entrez la sortie Tesseract : \")\n",
    "\n",
    "# Traite les données Tesseract avec spaCy\n",
    "result = process_tesseract_data(tesseract_output)\n",
    "\n",
    "# Convertit les résultats en JSON et affiche\n",
    "display(JSON(result))"
   ]
  }
 ],
 "metadata": {
  "kernelspec": {
   "display_name": "Python 3 (ipykernel)",
   "language": "python",
   "name": "python3"
  },
  "language_info": {
   "codemirror_mode": {
    "name": "ipython",
    "version": 3
   },
   "file_extension": ".py",
   "mimetype": "text/x-python",
   "name": "python",
   "nbconvert_exporter": "python",
   "pygments_lexer": "ipython3",
   "version": "3.11.2"
  }
 },
 "nbformat": 4,
 "nbformat_minor": 5
}
